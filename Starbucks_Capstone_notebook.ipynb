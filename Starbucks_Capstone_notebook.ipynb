{
 "cells": [
  {
   "cell_type": "markdown",
   "metadata": {},
   "source": [
    "# Starbucks Capstone Challenge\n",
    "\n",
    "### Introduction\n",
    "\n",
    "This data set contains simulated data that mimics customer behavior on the Starbucks rewards mobile app. Once every few days, Starbucks sends out an offer to users of the mobile app. An offer can be merely an advertisement for a drink or an actual offer such as a discount or BOGO (buy one get one free). Some users might not receive any offer during certain weeks. \n",
    "\n",
    "Not all users receive the same offer, and that is the challenge to solve with this data set.\n",
    "\n",
    "Your task is to combine transaction, demographic and offer data to determine which demographic groups respond best to which offer type. This data set is a simplified version of the real Starbucks app because the underlying simulator only has one product whereas Starbucks actually sells dozens of products.\n",
    "\n",
    "Every offer has a validity period before the offer expires. As an example, a BOGO offer might be valid for only 5 days. You'll see in the data set that informational offers have a validity period even though these ads are merely providing information about a product; for example, if an informational offer has 7 days of validity, you can assume the customer is feeling the influence of the offer for 7 days after receiving the advertisement.\n",
    "\n",
    "You'll be given transactional data showing user purchases made on the app including the timestamp of purchase and the amount of money spent on a purchase. This transactional data also has a record for each offer that a user receives as well as a record for when a user actually views the offer. There are also records for when a user completes an offer. \n",
    "\n",
    "Keep in mind as well that someone using the app might make a purchase through the app without having received an offer or seen an offer.\n",
    "\n",
    "### Example\n",
    "\n",
    "To give an example, a user could receive a discount offer buy 10 dollars get 2 off on Monday. The offer is valid for 10 days from receipt. If the customer accumulates at least 10 dollars in purchases during the validity period, the customer completes the offer.\n",
    "\n",
    "However, there are a few things to watch out for in this data set. Customers do not opt into the offers that they receive; in other words, a user can receive an offer, never actually view the offer, and still complete the offer. For example, a user might receive the \"buy 10 dollars get 2 dollars off offer\", but the user never opens the offer during the 10 day validity period. The customer spends 15 dollars during those ten days. There will be an offer completion record in the data set; however, the customer was not influenced by the offer because the customer never viewed the offer.\n",
    "\n",
    "### Cleaning\n",
    "\n",
    "This makes data cleaning especially important and tricky.\n",
    "\n",
    "You'll also want to take into account that some demographic groups will make purchases even if they don't receive an offer. From a business perspective, if a customer is going to make a 10 dollar purchase without an offer anyway, you wouldn't want to send a buy 10 dollars get 2 dollars off offer. You'll want to try to assess what a certain demographic group will buy when not receiving any offers.\n",
    "\n",
    "### Final Advice\n",
    "\n",
    "Because this is a capstone project, you are free to analyze the data any way you see fit. For example, you could build a machine learning model that predicts how much someone will spend based on demographics and offer type. Or you could build a model that predicts whether or not someone will respond to an offer. Or, you don't need to build a machine learning model at all. You could develop a set of heuristics that determine what offer you should send to each customer (i.e., 75 percent of women customers who were 35 years old responded to offer A vs 40 percent from the same demographic to offer B, so send offer A)."
   ]
  },
  {
   "cell_type": "markdown",
   "metadata": {},
   "source": [
    "# Data Sets\n",
    "\n",
    "The data is contained in three files:\n",
    "\n",
    "* portfolio.json - containing offer ids and meta data about each offer (duration, type, etc.)\n",
    "* profile.json - demographic data for each customer\n",
    "* transcript.json - records for transactions, offers received, offers viewed, and offers completed\n",
    "\n",
    "Here is the schema and explanation of each variable in the files:\n",
    "\n",
    "**portfolio.json**\n",
    "* id (string) - offer id\n",
    "* offer_type (string) - type of offer ie BOGO, discount, informational\n",
    "* difficulty (int) - minimum required spend to complete an offer\n",
    "* reward (int) - reward given for completing an offer\n",
    "* duration (int) - time for offer to be open, in days\n",
    "* channels (list of strings)\n",
    "\n",
    "**profile.json**\n",
    "* age (int) - age of the customer \n",
    "* became_member_on (int) - date when customer created an app account\n",
    "* gender (str) - gender of the customer (note some entries contain 'O' for other rather than M or F)\n",
    "* id (str) - customer id\n",
    "* income (float) - customer's income\n",
    "\n",
    "**transcript.json**\n",
    "* event (str) - record description (ie transaction, offer received, offer viewed, etc.)\n",
    "* person (str) - customer id\n",
    "* time (int) - time in hours since start of test. The data begins at time t=0\n",
    "* value - (dict of strings) - either an offer id or transaction amount depending on the record\n",
    "\n",
    "**Note:** If you are using the workspace, you will need to go to the terminal and run the command `conda update pandas` before reading in the files. This is because the version of pandas in the workspace cannot read in the transcript.json file correctly, but the newest version of pandas can. You can access the termnal from the orange icon in the top left of this notebook.  \n",
    "\n",
    "You can see how to access the terminal and how the install works using the two images below.  First you need to access the terminal:\n",
    "\n",
    "<img src=\"pic1.png\"/>\n",
    "\n",
    "Then you will want to run the above command:\n",
    "\n",
    "<img src=\"pic2.png\"/>\n",
    "\n",
    "Finally, when you enter back into the notebook (use the jupyter icon again), you should be able to run the below cell without any errors."
   ]
  },
  {
   "cell_type": "code",
   "execution_count": 1,
   "metadata": {},
   "outputs": [],
   "source": [
    "import pandas as pd\n",
    "import numpy as np\n",
    "import math\n",
    "import json\n",
    "import seaborn as sns\n",
    "import datetime\n",
    "import matplotlib.pyplot as plt\n",
    "import plotly.express as px\n",
    "%matplotlib inline\n",
    "\n",
    "from sklearn.preprocessing import MultiLabelBinarizer\n",
    "from sklearn.preprocessing import StandardScaler, MinMaxScaler\n",
    "from sklearn.decomposition import PCA\n",
    "from sklearn.neighbors import NearestNeighbors\n",
    "from sklearn.cluster import KMeans\n",
    "from sklearn.cluster import DBSCAN\n",
    "from sklearn.cluster import OPTICS\n",
    "from sklearn.preprocessing import LabelEncoder\n",
    "from sklearn import metrics\n",
    "from utilities import *\n",
    "from sklearn.model_selection import train_test_split\n",
    "from sklearn.preprocessing import LabelBinarizer\n",
    "from sklearn.ensemble import RandomForestClassifier\n",
    "from sklearn.preprocessing import MinMaxScaler\n",
    "from sklearn.metrics import accuracy_score, f1_score\n",
    "from sklearn.ensemble import GradientBoostingClassifier, RandomForestClassifier\n",
    "from sklearn.linear_model import LogisticRegression\n",
    "from sklearn.metrics import fbeta_score, make_scorer\n",
    "from sklearn.model_selection import GridSearchCV\n",
    "from sklearn.model_selection import RandomizedSearchCV\n",
    "from joblib import dump, load\n"
   ]
  },
  {
   "cell_type": "code",
   "execution_count": 2,
   "metadata": {},
   "outputs": [],
   "source": [
    "# read in the json files\n",
    "portfolio = pd.read_json('data/portfolio.json', orient='records', lines=True)\n",
    "profile = pd.read_json('data/profile.json', orient='records', lines=True)\n",
    "transcript = pd.read_json('data/transcript.json', orient='records', lines=True)"
   ]
  },
  {
   "cell_type": "markdown",
   "metadata": {},
   "source": [
    "## Exploratory data analysis\n",
    "### profile.json\n",
    "Rewards program users (17000 users x 5 fields)\n",
    "\n",
    "* gender: (categorical) M, F, O, or null\n",
    "* age: (numeric) missing value encoded as 118\n",
    "* id: (string/hash)\n",
    "* became_member_on: (date) format YYYYMMDD\n",
    "* income: (numeric)\n",
    "\n",
    "### portfolio.json\n",
    "Offers sent during 30-day test period (10 offers x 6 fields)\n",
    "\n",
    "* reward: (numeric) money awarded for the amount spent\n",
    "* channels: (list) web, email, mobile, social\n",
    "* difficulty: (numeric) money required to be spent to receive reward\n",
    "* duration: (numeric) time for offer to be open, in days\n",
    "* offer_type: (string) bogo, discount, informational\n",
    "* id: (string/hash)\n",
    "\n",
    "### transcript.json\n",
    "Event log (306648 events x 4 fields)\n",
    "\n",
    "* person: (string/hash)\n",
    "* event: (string) offer received, offer viewed, transaction, offer completed\n",
    "* value: (dictionary) different values depending on event type\n",
    "  * offer id: (string/hash) not associated with any \"transaction\"\n",
    "  * amount: (numeric) money spent in \"transaction\"\n",
    "  * reward: (numeric) money gained from \"offer completed\"\n",
    "* time: (numeric) hours after start of test"
   ]
  },
  {
   "cell_type": "code",
   "execution_count": 3,
   "metadata": {},
   "outputs": [
    {
     "name": "stdout",
     "output_type": "stream",
     "text": [
      "The shape of profile is (17000, 5)\n"
     ]
    }
   ],
   "source": [
    "print('The shape of profile is', profile.shape)"
   ]
  },
  {
   "cell_type": "code",
   "execution_count": 4,
   "metadata": {},
   "outputs": [
    {
     "data": {
      "text/html": [
       "<div>\n",
       "<style scoped>\n",
       "    .dataframe tbody tr th:only-of-type {\n",
       "        vertical-align: middle;\n",
       "    }\n",
       "\n",
       "    .dataframe tbody tr th {\n",
       "        vertical-align: top;\n",
       "    }\n",
       "\n",
       "    .dataframe thead th {\n",
       "        text-align: right;\n",
       "    }\n",
       "</style>\n",
       "<table border=\"1\" class=\"dataframe\">\n",
       "  <thead>\n",
       "    <tr style=\"text-align: right;\">\n",
       "      <th></th>\n",
       "      <th>gender</th>\n",
       "      <th>age</th>\n",
       "      <th>id</th>\n",
       "      <th>became_member_on</th>\n",
       "      <th>income</th>\n",
       "    </tr>\n",
       "  </thead>\n",
       "  <tbody>\n",
       "    <tr>\n",
       "      <th>0</th>\n",
       "      <td>None</td>\n",
       "      <td>118</td>\n",
       "      <td>68be06ca386d4c31939f3a4f0e3dd783</td>\n",
       "      <td>20170212</td>\n",
       "      <td>NaN</td>\n",
       "    </tr>\n",
       "    <tr>\n",
       "      <th>1</th>\n",
       "      <td>F</td>\n",
       "      <td>55</td>\n",
       "      <td>0610b486422d4921ae7d2bf64640c50b</td>\n",
       "      <td>20170715</td>\n",
       "      <td>112000.0</td>\n",
       "    </tr>\n",
       "    <tr>\n",
       "      <th>2</th>\n",
       "      <td>None</td>\n",
       "      <td>118</td>\n",
       "      <td>38fe809add3b4fcf9315a9694bb96ff5</td>\n",
       "      <td>20180712</td>\n",
       "      <td>NaN</td>\n",
       "    </tr>\n",
       "    <tr>\n",
       "      <th>3</th>\n",
       "      <td>F</td>\n",
       "      <td>75</td>\n",
       "      <td>78afa995795e4d85b5d9ceeca43f5fef</td>\n",
       "      <td>20170509</td>\n",
       "      <td>100000.0</td>\n",
       "    </tr>\n",
       "    <tr>\n",
       "      <th>4</th>\n",
       "      <td>None</td>\n",
       "      <td>118</td>\n",
       "      <td>a03223e636434f42ac4c3df47e8bac43</td>\n",
       "      <td>20170804</td>\n",
       "      <td>NaN</td>\n",
       "    </tr>\n",
       "    <tr>\n",
       "      <th>5</th>\n",
       "      <td>M</td>\n",
       "      <td>68</td>\n",
       "      <td>e2127556f4f64592b11af22de27a7932</td>\n",
       "      <td>20180426</td>\n",
       "      <td>70000.0</td>\n",
       "    </tr>\n",
       "    <tr>\n",
       "      <th>6</th>\n",
       "      <td>None</td>\n",
       "      <td>118</td>\n",
       "      <td>8ec6ce2a7e7949b1bf142def7d0e0586</td>\n",
       "      <td>20170925</td>\n",
       "      <td>NaN</td>\n",
       "    </tr>\n",
       "    <tr>\n",
       "      <th>7</th>\n",
       "      <td>None</td>\n",
       "      <td>118</td>\n",
       "      <td>68617ca6246f4fbc85e91a2a49552598</td>\n",
       "      <td>20171002</td>\n",
       "      <td>NaN</td>\n",
       "    </tr>\n",
       "    <tr>\n",
       "      <th>8</th>\n",
       "      <td>M</td>\n",
       "      <td>65</td>\n",
       "      <td>389bc3fa690240e798340f5a15918d5c</td>\n",
       "      <td>20180209</td>\n",
       "      <td>53000.0</td>\n",
       "    </tr>\n",
       "    <tr>\n",
       "      <th>9</th>\n",
       "      <td>None</td>\n",
       "      <td>118</td>\n",
       "      <td>8974fc5686fe429db53ddde067b88302</td>\n",
       "      <td>20161122</td>\n",
       "      <td>NaN</td>\n",
       "    </tr>\n",
       "  </tbody>\n",
       "</table>\n",
       "</div>"
      ],
      "text/plain": [
       "  gender  age                                id  became_member_on    income\n",
       "0   None  118  68be06ca386d4c31939f3a4f0e3dd783          20170212       NaN\n",
       "1      F   55  0610b486422d4921ae7d2bf64640c50b          20170715  112000.0\n",
       "2   None  118  38fe809add3b4fcf9315a9694bb96ff5          20180712       NaN\n",
       "3      F   75  78afa995795e4d85b5d9ceeca43f5fef          20170509  100000.0\n",
       "4   None  118  a03223e636434f42ac4c3df47e8bac43          20170804       NaN\n",
       "5      M   68  e2127556f4f64592b11af22de27a7932          20180426   70000.0\n",
       "6   None  118  8ec6ce2a7e7949b1bf142def7d0e0586          20170925       NaN\n",
       "7   None  118  68617ca6246f4fbc85e91a2a49552598          20171002       NaN\n",
       "8      M   65  389bc3fa690240e798340f5a15918d5c          20180209   53000.0\n",
       "9   None  118  8974fc5686fe429db53ddde067b88302          20161122       NaN"
      ]
     },
     "execution_count": 4,
     "metadata": {},
     "output_type": "execute_result"
    }
   ],
   "source": [
    "profile.head(10)"
   ]
  },
  {
   "cell_type": "code",
   "execution_count": 5,
   "metadata": {},
   "outputs": [
    {
     "name": "stdout",
     "output_type": "stream",
     "text": [
      "Percentage of missing in gender is 0.12794117647058822\n",
      "Percentage of missing in age is 0.0\n",
      "Percentage of missing in id is 0.0\n",
      "Percentage of missing in became_member_on is 0.0\n",
      "Percentage of missing in income is 0.12794117647058822\n"
     ]
    }
   ],
   "source": [
    "for cc in profile:\n",
    "    print('Percentage of missing in {} is {}'.format(cc, profile[cc].isna().sum()/17000))"
   ]
  },
  {
   "cell_type": "code",
   "execution_count": 6,
   "metadata": {},
   "outputs": [],
   "source": [
    "# Remove customers with N/A income data\n",
    "profile = profile[profile['income'].notnull()]"
   ]
  },
  {
   "cell_type": "code",
   "execution_count": 7,
   "metadata": {},
   "outputs": [],
   "source": [
    "# Remove customers with unspecified gender\n",
    "profile = profile[profile['gender'] != 'O']\n",
    "profile = profile.reset_index(drop=True)"
   ]
  },
  {
   "cell_type": "code",
   "execution_count": 8,
   "metadata": {},
   "outputs": [],
   "source": [
    "# Change the name of the 'id' column to 'customerid'\n",
    "profile.columns = update_column_name(profile, 'id', 'customerid')"
   ]
  },
  {
   "cell_type": "code",
   "execution_count": 9,
   "metadata": {},
   "outputs": [],
   "source": [
    "# Initialize a list that describes the desired DataFrame column\n",
    "# ordering\n",
    "column_ordering = ['customerid', 'gender', 'income']"
   ]
  },
  {
   "cell_type": "code",
   "execution_count": 10,
   "metadata": {},
   "outputs": [],
   "source": [
    "# Transform the 'became_member_on' column to a datetime object\n",
    "profile['became_member_on'] = profile['became_member_on'].apply(conv_to_datetime)"
   ]
  },
  {
   "cell_type": "code",
   "execution_count": 11,
   "metadata": {},
   "outputs": [],
   "source": [
    "# One hot encode a customer's membership start year\n",
    "profile['membershipstartyear'] = profile['became_member_on'].apply(lambda elem: elem.year)\n",
    "membershipstartyear_df = pd.get_dummies(profile['membershipstartyear'])\n",
    "column_ordering.extend(membershipstartyear_df.columns.values)"
   ]
  },
  {
   "cell_type": "code",
   "execution_count": 12,
   "metadata": {},
   "outputs": [],
   "source": [
    "# One hot encode a customer's age range\n",
    "min_age_limit = np.int(np.floor(np.min(profile['age'])/10)*10)\n",
    "max_age_limit = np.int(np.ceil(np.max(profile['age'])/10)*10)\n",
    "\n",
    "profile['agerange'] = pd.cut(profile['age'], (range(min_age_limit,max_age_limit + 10, 10)),right=False)\n",
    "\n",
    "profile['agerange'] = profile['agerange'].astype('str')\n",
    "\n",
    "agerange_df = pd.get_dummies(profile['agerange'])\n",
    "column_ordering.extend(agerange_df.columns.values)"
   ]
  },
  {
   "cell_type": "code",
   "execution_count": 13,
   "metadata": {},
   "outputs": [],
   "source": [
    "# Transform a customer's gender from a character to a number\n",
    "binarizerobj = LabelBinarizer()\n",
    "profile['gender'] = binarizerobj.fit_transform(profile['gender'])\n",
    "\n",
    "gender_integer_map = {}\n",
    "for elem in binarizerobj.classes_:\n",
    "    gender_integer_map[elem] = binarizerobj.transform([elem])[0,0]"
   ]
  },
  {
   "cell_type": "code",
   "execution_count": 14,
   "metadata": {},
   "outputs": [],
   "source": [
    "# Appened one hot encoded age range and membership start year variables\n",
    "profile = pd.concat([profile, agerange_df, membershipstartyear_df], axis=1)"
   ]
  },
  {
   "cell_type": "code",
   "execution_count": 15,
   "metadata": {},
   "outputs": [],
   "source": [
    "# Drop depcreated columns\n",
    "profile = profile.drop(columns=['age', 'agerange', 'became_member_on', 'membershipstartyear'])\n",
    "profile = profile[column_ordering]"
   ]
  },
  {
   "cell_type": "code",
   "execution_count": 16,
   "metadata": {},
   "outputs": [
    {
     "data": {
      "text/html": [
       "<div>\n",
       "<style scoped>\n",
       "    .dataframe tbody tr th:only-of-type {\n",
       "        vertical-align: middle;\n",
       "    }\n",
       "\n",
       "    .dataframe tbody tr th {\n",
       "        vertical-align: top;\n",
       "    }\n",
       "\n",
       "    .dataframe thead th {\n",
       "        text-align: right;\n",
       "    }\n",
       "</style>\n",
       "<table border=\"1\" class=\"dataframe\">\n",
       "  <thead>\n",
       "    <tr style=\"text-align: right;\">\n",
       "      <th></th>\n",
       "      <th>customerid</th>\n",
       "      <th>gender</th>\n",
       "      <th>income</th>\n",
       "      <th>2013</th>\n",
       "      <th>2014</th>\n",
       "      <th>2015</th>\n",
       "      <th>2016</th>\n",
       "      <th>2017</th>\n",
       "      <th>2018</th>\n",
       "      <th>[10, 20)</th>\n",
       "      <th>[100, 110)</th>\n",
       "      <th>[20, 30)</th>\n",
       "      <th>[30, 40)</th>\n",
       "      <th>[40, 50)</th>\n",
       "      <th>[50, 60)</th>\n",
       "      <th>[60, 70)</th>\n",
       "      <th>[70, 80)</th>\n",
       "      <th>[80, 90)</th>\n",
       "      <th>[90, 100)</th>\n",
       "    </tr>\n",
       "  </thead>\n",
       "  <tbody>\n",
       "    <tr>\n",
       "      <th>0</th>\n",
       "      <td>0610b486422d4921ae7d2bf64640c50b</td>\n",
       "      <td>0</td>\n",
       "      <td>112000.0</td>\n",
       "      <td>0</td>\n",
       "      <td>0</td>\n",
       "      <td>0</td>\n",
       "      <td>0</td>\n",
       "      <td>1</td>\n",
       "      <td>0</td>\n",
       "      <td>0</td>\n",
       "      <td>0</td>\n",
       "      <td>0</td>\n",
       "      <td>0</td>\n",
       "      <td>0</td>\n",
       "      <td>1</td>\n",
       "      <td>0</td>\n",
       "      <td>0</td>\n",
       "      <td>0</td>\n",
       "      <td>0</td>\n",
       "    </tr>\n",
       "    <tr>\n",
       "      <th>1</th>\n",
       "      <td>78afa995795e4d85b5d9ceeca43f5fef</td>\n",
       "      <td>0</td>\n",
       "      <td>100000.0</td>\n",
       "      <td>0</td>\n",
       "      <td>0</td>\n",
       "      <td>0</td>\n",
       "      <td>0</td>\n",
       "      <td>1</td>\n",
       "      <td>0</td>\n",
       "      <td>0</td>\n",
       "      <td>0</td>\n",
       "      <td>0</td>\n",
       "      <td>0</td>\n",
       "      <td>0</td>\n",
       "      <td>0</td>\n",
       "      <td>0</td>\n",
       "      <td>1</td>\n",
       "      <td>0</td>\n",
       "      <td>0</td>\n",
       "    </tr>\n",
       "    <tr>\n",
       "      <th>2</th>\n",
       "      <td>e2127556f4f64592b11af22de27a7932</td>\n",
       "      <td>1</td>\n",
       "      <td>70000.0</td>\n",
       "      <td>0</td>\n",
       "      <td>0</td>\n",
       "      <td>0</td>\n",
       "      <td>0</td>\n",
       "      <td>0</td>\n",
       "      <td>1</td>\n",
       "      <td>0</td>\n",
       "      <td>0</td>\n",
       "      <td>0</td>\n",
       "      <td>0</td>\n",
       "      <td>0</td>\n",
       "      <td>0</td>\n",
       "      <td>1</td>\n",
       "      <td>0</td>\n",
       "      <td>0</td>\n",
       "      <td>0</td>\n",
       "    </tr>\n",
       "    <tr>\n",
       "      <th>3</th>\n",
       "      <td>389bc3fa690240e798340f5a15918d5c</td>\n",
       "      <td>1</td>\n",
       "      <td>53000.0</td>\n",
       "      <td>0</td>\n",
       "      <td>0</td>\n",
       "      <td>0</td>\n",
       "      <td>0</td>\n",
       "      <td>0</td>\n",
       "      <td>1</td>\n",
       "      <td>0</td>\n",
       "      <td>0</td>\n",
       "      <td>0</td>\n",
       "      <td>0</td>\n",
       "      <td>0</td>\n",
       "      <td>0</td>\n",
       "      <td>1</td>\n",
       "      <td>0</td>\n",
       "      <td>0</td>\n",
       "      <td>0</td>\n",
       "    </tr>\n",
       "    <tr>\n",
       "      <th>4</th>\n",
       "      <td>2eeac8d8feae4a8cad5a6af0499a211d</td>\n",
       "      <td>1</td>\n",
       "      <td>51000.0</td>\n",
       "      <td>0</td>\n",
       "      <td>0</td>\n",
       "      <td>0</td>\n",
       "      <td>0</td>\n",
       "      <td>1</td>\n",
       "      <td>0</td>\n",
       "      <td>0</td>\n",
       "      <td>0</td>\n",
       "      <td>0</td>\n",
       "      <td>0</td>\n",
       "      <td>0</td>\n",
       "      <td>1</td>\n",
       "      <td>0</td>\n",
       "      <td>0</td>\n",
       "      <td>0</td>\n",
       "      <td>0</td>\n",
       "    </tr>\n",
       "  </tbody>\n",
       "</table>\n",
       "</div>"
      ],
      "text/plain": [
       "                         customerid  gender    income  2013  2014  2015  2016  \\\n",
       "0  0610b486422d4921ae7d2bf64640c50b       0  112000.0     0     0     0     0   \n",
       "1  78afa995795e4d85b5d9ceeca43f5fef       0  100000.0     0     0     0     0   \n",
       "2  e2127556f4f64592b11af22de27a7932       1   70000.0     0     0     0     0   \n",
       "3  389bc3fa690240e798340f5a15918d5c       1   53000.0     0     0     0     0   \n",
       "4  2eeac8d8feae4a8cad5a6af0499a211d       1   51000.0     0     0     0     0   \n",
       "\n",
       "   2017  2018  [10, 20)  [100, 110)  [20, 30)  [30, 40)  [40, 50)  [50, 60)  \\\n",
       "0     1     0         0           0         0         0         0         1   \n",
       "1     1     0         0           0         0         0         0         0   \n",
       "2     0     1         0           0         0         0         0         0   \n",
       "3     0     1         0           0         0         0         0         0   \n",
       "4     1     0         0           0         0         0         0         1   \n",
       "\n",
       "   [60, 70)  [70, 80)  [80, 90)  [90, 100)  \n",
       "0         0         0         0          0  \n",
       "1         0         1         0          0  \n",
       "2         1         0         0          0  \n",
       "3         1         0         0          0  \n",
       "4         0         0         0          0  "
      ]
     },
     "execution_count": 16,
     "metadata": {},
     "output_type": "execute_result"
    }
   ],
   "source": [
    "profile.head()"
   ]
  },
  {
   "cell_type": "code",
   "execution_count": 17,
   "metadata": {},
   "outputs": [
    {
     "data": {
      "text/plain": [
       "{'F': 0, 'M': 1}"
      ]
     },
     "execution_count": 17,
     "metadata": {},
     "output_type": "execute_result"
    }
   ],
   "source": [
    "gender_integer_map"
   ]
  },
  {
   "cell_type": "code",
   "execution_count": 18,
   "metadata": {},
   "outputs": [],
   "source": [
    "# Change the name of the 'id' column to 'offerid'\n",
    "columns = update_column_name(portfolio, 'id', 'offerid')"
   ]
  },
  {
   "cell_type": "code",
   "execution_count": 19,
   "metadata": {},
   "outputs": [],
   "source": [
    "# Change the name of the 'duration' column to 'durationdays'\n",
    "portfolio.columns = update_column_name(portfolio, 'duration', 'durationdays')"
   ]
  },
  {
   "cell_type": "code",
   "execution_count": 20,
   "metadata": {},
   "outputs": [],
   "source": [
    "# Remove underscores from column names\n",
    "portfolio.columns = [re.sub('_', '', elem) for elem in columns]"
   ]
  },
  {
   "cell_type": "code",
   "execution_count": 21,
   "metadata": {},
   "outputs": [],
   "source": [
    "# Initialize a list that stores the desired output DataFrame \n",
    "# column ordering\n",
    "column_ordering = ['offerid',\n",
    "                   'difficulty',\n",
    "                   'durationdays',\n",
    "                   'reward']"
   ]
  },
  {
   "cell_type": "code",
   "execution_count": 22,
   "metadata": {},
   "outputs": [],
   "source": [
    "# One hot encode the 'offertype' column\n",
    "offertype_df = pd.get_dummies(portfolio['offertype'])\n",
    "\n",
    "column_ordering.extend(offertype_df.columns.values)"
   ]
  },
  {
   "cell_type": "code",
   "execution_count": 23,
   "metadata": {},
   "outputs": [],
   "source": [
    "# One hot encode the 'channels' columns\n",
    "ml_binarizerobj = MultiLabelBinarizer()\n",
    "ml_binarizerobj.fit(portfolio['channels'])\n",
    "\n",
    "channels_df =\\\n",
    "    pd.DataFrame(ml_binarizerobj.transform(portfolio['channels']),\n",
    "    columns=ml_binarizerobj.classes_)\n",
    "\n",
    "column_ordering.extend(channels_df.columns.values)"
   ]
  },
  {
   "cell_type": "code",
   "execution_count": 24,
   "metadata": {},
   "outputs": [],
   "source": [
    "# Replace the 'offertype' and 'channels' columns\n",
    "portfolio = pd.concat([portfolio, offertype_df, channels_df], axis=1)\n",
    "\n",
    "portfolio = portfolio.drop(columns=['offertype', 'channels'])\n",
    "portfolio = portfolio[column_ordering]"
   ]
  },
  {
   "cell_type": "code",
   "execution_count": 25,
   "metadata": {
    "scrolled": true
   },
   "outputs": [
    {
     "data": {
      "text/html": [
       "<div>\n",
       "<style scoped>\n",
       "    .dataframe tbody tr th:only-of-type {\n",
       "        vertical-align: middle;\n",
       "    }\n",
       "\n",
       "    .dataframe tbody tr th {\n",
       "        vertical-align: top;\n",
       "    }\n",
       "\n",
       "    .dataframe thead th {\n",
       "        text-align: right;\n",
       "    }\n",
       "</style>\n",
       "<table border=\"1\" class=\"dataframe\">\n",
       "  <thead>\n",
       "    <tr style=\"text-align: right;\">\n",
       "      <th></th>\n",
       "      <th>offerid</th>\n",
       "      <th>difficulty</th>\n",
       "      <th>durationdays</th>\n",
       "      <th>reward</th>\n",
       "      <th>bogo</th>\n",
       "      <th>discount</th>\n",
       "      <th>informational</th>\n",
       "      <th>email</th>\n",
       "      <th>mobile</th>\n",
       "      <th>social</th>\n",
       "      <th>web</th>\n",
       "    </tr>\n",
       "  </thead>\n",
       "  <tbody>\n",
       "    <tr>\n",
       "      <th>0</th>\n",
       "      <td>ae264e3637204a6fb9bb56bc8210ddfd</td>\n",
       "      <td>10</td>\n",
       "      <td>7</td>\n",
       "      <td>10</td>\n",
       "      <td>1</td>\n",
       "      <td>0</td>\n",
       "      <td>0</td>\n",
       "      <td>1</td>\n",
       "      <td>1</td>\n",
       "      <td>1</td>\n",
       "      <td>0</td>\n",
       "    </tr>\n",
       "    <tr>\n",
       "      <th>1</th>\n",
       "      <td>4d5c57ea9a6940dd891ad53e9dbe8da0</td>\n",
       "      <td>10</td>\n",
       "      <td>5</td>\n",
       "      <td>10</td>\n",
       "      <td>1</td>\n",
       "      <td>0</td>\n",
       "      <td>0</td>\n",
       "      <td>1</td>\n",
       "      <td>1</td>\n",
       "      <td>1</td>\n",
       "      <td>1</td>\n",
       "    </tr>\n",
       "    <tr>\n",
       "      <th>2</th>\n",
       "      <td>3f207df678b143eea3cee63160fa8bed</td>\n",
       "      <td>0</td>\n",
       "      <td>4</td>\n",
       "      <td>0</td>\n",
       "      <td>0</td>\n",
       "      <td>0</td>\n",
       "      <td>1</td>\n",
       "      <td>1</td>\n",
       "      <td>1</td>\n",
       "      <td>0</td>\n",
       "      <td>1</td>\n",
       "    </tr>\n",
       "    <tr>\n",
       "      <th>3</th>\n",
       "      <td>9b98b8c7a33c4b65b9aebfe6a799e6d9</td>\n",
       "      <td>5</td>\n",
       "      <td>7</td>\n",
       "      <td>5</td>\n",
       "      <td>1</td>\n",
       "      <td>0</td>\n",
       "      <td>0</td>\n",
       "      <td>1</td>\n",
       "      <td>1</td>\n",
       "      <td>0</td>\n",
       "      <td>1</td>\n",
       "    </tr>\n",
       "    <tr>\n",
       "      <th>4</th>\n",
       "      <td>0b1e1539f2cc45b7b9fa7c272da2e1d7</td>\n",
       "      <td>20</td>\n",
       "      <td>10</td>\n",
       "      <td>5</td>\n",
       "      <td>0</td>\n",
       "      <td>1</td>\n",
       "      <td>0</td>\n",
       "      <td>1</td>\n",
       "      <td>0</td>\n",
       "      <td>0</td>\n",
       "      <td>1</td>\n",
       "    </tr>\n",
       "    <tr>\n",
       "      <th>5</th>\n",
       "      <td>2298d6c36e964ae4a3e7e9706d1fb8c2</td>\n",
       "      <td>7</td>\n",
       "      <td>7</td>\n",
       "      <td>3</td>\n",
       "      <td>0</td>\n",
       "      <td>1</td>\n",
       "      <td>0</td>\n",
       "      <td>1</td>\n",
       "      <td>1</td>\n",
       "      <td>1</td>\n",
       "      <td>1</td>\n",
       "    </tr>\n",
       "    <tr>\n",
       "      <th>6</th>\n",
       "      <td>fafdcd668e3743c1bb461111dcafc2a4</td>\n",
       "      <td>10</td>\n",
       "      <td>10</td>\n",
       "      <td>2</td>\n",
       "      <td>0</td>\n",
       "      <td>1</td>\n",
       "      <td>0</td>\n",
       "      <td>1</td>\n",
       "      <td>1</td>\n",
       "      <td>1</td>\n",
       "      <td>1</td>\n",
       "    </tr>\n",
       "    <tr>\n",
       "      <th>7</th>\n",
       "      <td>5a8bc65990b245e5a138643cd4eb9837</td>\n",
       "      <td>0</td>\n",
       "      <td>3</td>\n",
       "      <td>0</td>\n",
       "      <td>0</td>\n",
       "      <td>0</td>\n",
       "      <td>1</td>\n",
       "      <td>1</td>\n",
       "      <td>1</td>\n",
       "      <td>1</td>\n",
       "      <td>0</td>\n",
       "    </tr>\n",
       "    <tr>\n",
       "      <th>8</th>\n",
       "      <td>f19421c1d4aa40978ebb69ca19b0e20d</td>\n",
       "      <td>5</td>\n",
       "      <td>5</td>\n",
       "      <td>5</td>\n",
       "      <td>1</td>\n",
       "      <td>0</td>\n",
       "      <td>0</td>\n",
       "      <td>1</td>\n",
       "      <td>1</td>\n",
       "      <td>1</td>\n",
       "      <td>1</td>\n",
       "    </tr>\n",
       "    <tr>\n",
       "      <th>9</th>\n",
       "      <td>2906b810c7d4411798c6938adc9daaa5</td>\n",
       "      <td>10</td>\n",
       "      <td>7</td>\n",
       "      <td>2</td>\n",
       "      <td>0</td>\n",
       "      <td>1</td>\n",
       "      <td>0</td>\n",
       "      <td>1</td>\n",
       "      <td>1</td>\n",
       "      <td>0</td>\n",
       "      <td>1</td>\n",
       "    </tr>\n",
       "  </tbody>\n",
       "</table>\n",
       "</div>"
      ],
      "text/plain": [
       "                            offerid  difficulty  durationdays  reward  bogo  \\\n",
       "0  ae264e3637204a6fb9bb56bc8210ddfd          10             7      10     1   \n",
       "1  4d5c57ea9a6940dd891ad53e9dbe8da0          10             5      10     1   \n",
       "2  3f207df678b143eea3cee63160fa8bed           0             4       0     0   \n",
       "3  9b98b8c7a33c4b65b9aebfe6a799e6d9           5             7       5     1   \n",
       "4  0b1e1539f2cc45b7b9fa7c272da2e1d7          20            10       5     0   \n",
       "5  2298d6c36e964ae4a3e7e9706d1fb8c2           7             7       3     0   \n",
       "6  fafdcd668e3743c1bb461111dcafc2a4          10            10       2     0   \n",
       "7  5a8bc65990b245e5a138643cd4eb9837           0             3       0     0   \n",
       "8  f19421c1d4aa40978ebb69ca19b0e20d           5             5       5     1   \n",
       "9  2906b810c7d4411798c6938adc9daaa5          10             7       2     0   \n",
       "\n",
       "   discount  informational  email  mobile  social  web  \n",
       "0         0              0      1       1       1    0  \n",
       "1         0              0      1       1       1    1  \n",
       "2         0              1      1       1       0    1  \n",
       "3         0              0      1       1       0    1  \n",
       "4         1              0      1       0       0    1  \n",
       "5         1              0      1       1       1    1  \n",
       "6         1              0      1       1       1    1  \n",
       "7         0              1      1       1       1    0  \n",
       "8         0              0      1       1       1    1  \n",
       "9         1              0      1       1       0    1  "
      ]
     },
     "execution_count": 25,
     "metadata": {},
     "output_type": "execute_result"
    }
   ],
   "source": [
    "portfolio"
   ]
  },
  {
   "cell_type": "code",
   "execution_count": 26,
   "metadata": {},
   "outputs": [],
   "source": [
    "# Change the name of the 'person' column to 'customerid'\n",
    "transcript.columns = update_column_name(transcript,\n",
    "                                        'person',\n",
    "                                        'customerid')"
   ]
  },
  {
   "cell_type": "code",
   "execution_count": 27,
   "metadata": {},
   "outputs": [],
   "source": [
    "# Remove customer id's that are not in the customer profile DataFrame\n",
    "select_data = transcript['customerid'].isin(profile['customerid'])\n",
    "transcript = transcript[select_data]"
   ]
  },
  {
   "cell_type": "code",
   "execution_count": 28,
   "metadata": {},
   "outputs": [
    {
     "name": "stdout",
     "output_type": "stream",
     "text": [
      "Percentage of transactions removed: 12.31 %\n"
     ]
    }
   ],
   "source": [
    "percent_removed = 100 * (1 - select_data.sum() / select_data.shape[0])\n",
    "print(\"Percentage of transactions removed: %.2f %%\" % percent_removed)"
   ]
  },
  {
   "cell_type": "code",
   "execution_count": 29,
   "metadata": {},
   "outputs": [],
   "source": [
    "# Convert from hours to days\n",
    "transcript['time'] /= 24.0"
   ]
  },
  {
   "cell_type": "code",
   "execution_count": 30,
   "metadata": {},
   "outputs": [],
   "source": [
    "# Change the name of the 'time' column to 'timedays'\n",
    "transcript.columns = update_column_name(transcript,\n",
    "                                        'time',\n",
    "                                        'timedays')"
   ]
  },
  {
   "cell_type": "code",
   "execution_count": 31,
   "metadata": {},
   "outputs": [],
   "source": [
    "# Select customer offers\n",
    "pattern_obj = re.compile('^offer (?:received|viewed|completed)')\n",
    "\n",
    "h_is_offer = lambda elem: pattern_obj.match(elem) != None\n",
    "\n",
    "is_offer = transcript['event'].apply(h_is_offer)\n",
    "\n",
    "offer_data = transcript[is_offer].copy()\n",
    "offer_data = offer_data.reset_index(drop=True)"
   ]
  },
  {
   "cell_type": "code",
   "execution_count": 32,
   "metadata": {},
   "outputs": [],
   "source": [
    "# Initialize a list that describes the desired output DataFrame column ordering\n",
    "column_order = ['offerid', 'customerid', 'timedays']"
   ]
  },
  {
   "cell_type": "code",
   "execution_count": 33,
   "metadata": {},
   "outputs": [],
   "source": [
    "# Create an offerid column\n",
    "offer_data['offerid'] =\\\n",
    "    offer_data['value'].apply(lambda elem: list(elem.values())[0])"
   ]
  },
  {
   "cell_type": "code",
   "execution_count": 34,
   "metadata": {},
   "outputs": [],
   "source": [
    "# Transform a column that describes a customer offer event\n",
    "pattern_obj = re.compile('^offer ([a-z]+$)')\n",
    "\n",
    "h_transform = lambda elem: pattern_obj.match(elem).groups(1)[0]\n",
    "\n",
    "offer_data['event'] = offer_data['event'].apply(h_transform)"
   ]
  },
  {
   "cell_type": "code",
   "execution_count": 35,
   "metadata": {},
   "outputs": [],
   "source": [
    "# One hot encode customer offer events\n",
    "event_df = pd.get_dummies(offer_data['event'])\n",
    "column_order.extend(event_df.columns.values)"
   ]
  },
  {
   "cell_type": "code",
   "execution_count": 36,
   "metadata": {},
   "outputs": [],
   "source": [
    "# Create a DataFrame that describes customer offer events\n",
    "offer_data = pd.concat([offer_data, event_df], axis=1)\n",
    "offer_data.drop(columns=['event', 'value'])\n",
    "offer_data = offer_data[column_order]"
   ]
  },
  {
   "cell_type": "code",
   "execution_count": 37,
   "metadata": {},
   "outputs": [],
   "source": [
    "# Select customer transaction events\n",
    "transaction = transcript[is_offer == False]\n",
    "transaction = transaction.reset_index(drop=True)"
   ]
  },
  {
   "cell_type": "code",
   "execution_count": 38,
   "metadata": {},
   "outputs": [],
   "source": [
    "# Transform customer transaction event values\n",
    "transaction['amount'] =\\\n",
    "    transaction['value'].apply(lambda elem: list(elem.values())[0])"
   ]
  },
  {
   "cell_type": "code",
   "execution_count": 39,
   "metadata": {},
   "outputs": [],
   "source": [
    "# Create a DataFrame that describes customer transactions\n",
    "transaction = transaction.drop(columns=['event', 'value'])\n",
    "column_order = ['customerid', 'timedays', 'amount']\n",
    "transaction = transaction[column_order]"
   ]
  },
  {
   "cell_type": "code",
   "execution_count": 40,
   "metadata": {},
   "outputs": [
    {
     "data": {
      "text/html": [
       "<div>\n",
       "<style scoped>\n",
       "    .dataframe tbody tr th:only-of-type {\n",
       "        vertical-align: middle;\n",
       "    }\n",
       "\n",
       "    .dataframe tbody tr th {\n",
       "        vertical-align: top;\n",
       "    }\n",
       "\n",
       "    .dataframe thead th {\n",
       "        text-align: right;\n",
       "    }\n",
       "</style>\n",
       "<table border=\"1\" class=\"dataframe\">\n",
       "  <thead>\n",
       "    <tr style=\"text-align: right;\">\n",
       "      <th></th>\n",
       "      <th>customerid</th>\n",
       "      <th>timedays</th>\n",
       "      <th>amount</th>\n",
       "    </tr>\n",
       "  </thead>\n",
       "  <tbody>\n",
       "    <tr>\n",
       "      <th>0</th>\n",
       "      <td>02c083884c7d45b39cc68e1314fec56c</td>\n",
       "      <td>0.0</td>\n",
       "      <td>0.83</td>\n",
       "    </tr>\n",
       "    <tr>\n",
       "      <th>1</th>\n",
       "      <td>9fa9ae8f57894cc9a3b8a9bbe0fc1b2f</td>\n",
       "      <td>0.0</td>\n",
       "      <td>34.56</td>\n",
       "    </tr>\n",
       "    <tr>\n",
       "      <th>2</th>\n",
       "      <td>54890f68699049c2a04d415abc25e717</td>\n",
       "      <td>0.0</td>\n",
       "      <td>13.23</td>\n",
       "    </tr>\n",
       "    <tr>\n",
       "      <th>3</th>\n",
       "      <td>b2f1cd155b864803ad8334cdf13c4bd2</td>\n",
       "      <td>0.0</td>\n",
       "      <td>19.51</td>\n",
       "    </tr>\n",
       "    <tr>\n",
       "      <th>4</th>\n",
       "      <td>fe97aa22dd3e48c8b143116a8403dd52</td>\n",
       "      <td>0.0</td>\n",
       "      <td>18.97</td>\n",
       "    </tr>\n",
       "  </tbody>\n",
       "</table>\n",
       "</div>"
      ],
      "text/plain": [
       "                         customerid  timedays  amount\n",
       "0  02c083884c7d45b39cc68e1314fec56c       0.0    0.83\n",
       "1  9fa9ae8f57894cc9a3b8a9bbe0fc1b2f       0.0   34.56\n",
       "2  54890f68699049c2a04d415abc25e717       0.0   13.23\n",
       "3  b2f1cd155b864803ad8334cdf13c4bd2       0.0   19.51\n",
       "4  fe97aa22dd3e48c8b143116a8403dd52       0.0   18.97"
      ]
     },
     "execution_count": 40,
     "metadata": {},
     "output_type": "execute_result"
    }
   ],
   "source": [
    "transaction.head()"
   ]
  },
  {
   "cell_type": "code",
   "execution_count": 41,
   "metadata": {},
   "outputs": [
    {
     "data": {
      "text/html": [
       "<div>\n",
       "<style scoped>\n",
       "    .dataframe tbody tr th:only-of-type {\n",
       "        vertical-align: middle;\n",
       "    }\n",
       "\n",
       "    .dataframe tbody tr th {\n",
       "        vertical-align: top;\n",
       "    }\n",
       "\n",
       "    .dataframe thead th {\n",
       "        text-align: right;\n",
       "    }\n",
       "</style>\n",
       "<table border=\"1\" class=\"dataframe\">\n",
       "  <thead>\n",
       "    <tr style=\"text-align: right;\">\n",
       "      <th></th>\n",
       "      <th>offerid</th>\n",
       "      <th>customerid</th>\n",
       "      <th>timedays</th>\n",
       "      <th>completed</th>\n",
       "      <th>received</th>\n",
       "      <th>viewed</th>\n",
       "    </tr>\n",
       "  </thead>\n",
       "  <tbody>\n",
       "    <tr>\n",
       "      <th>0</th>\n",
       "      <td>9b98b8c7a33c4b65b9aebfe6a799e6d9</td>\n",
       "      <td>78afa995795e4d85b5d9ceeca43f5fef</td>\n",
       "      <td>0.0</td>\n",
       "      <td>0</td>\n",
       "      <td>1</td>\n",
       "      <td>0</td>\n",
       "    </tr>\n",
       "    <tr>\n",
       "      <th>1</th>\n",
       "      <td>2906b810c7d4411798c6938adc9daaa5</td>\n",
       "      <td>e2127556f4f64592b11af22de27a7932</td>\n",
       "      <td>0.0</td>\n",
       "      <td>0</td>\n",
       "      <td>1</td>\n",
       "      <td>0</td>\n",
       "    </tr>\n",
       "    <tr>\n",
       "      <th>2</th>\n",
       "      <td>f19421c1d4aa40978ebb69ca19b0e20d</td>\n",
       "      <td>389bc3fa690240e798340f5a15918d5c</td>\n",
       "      <td>0.0</td>\n",
       "      <td>0</td>\n",
       "      <td>1</td>\n",
       "      <td>0</td>\n",
       "    </tr>\n",
       "    <tr>\n",
       "      <th>3</th>\n",
       "      <td>3f207df678b143eea3cee63160fa8bed</td>\n",
       "      <td>2eeac8d8feae4a8cad5a6af0499a211d</td>\n",
       "      <td>0.0</td>\n",
       "      <td>0</td>\n",
       "      <td>1</td>\n",
       "      <td>0</td>\n",
       "    </tr>\n",
       "    <tr>\n",
       "      <th>4</th>\n",
       "      <td>0b1e1539f2cc45b7b9fa7c272da2e1d7</td>\n",
       "      <td>aa4862eba776480b8bb9c68455b8c2e1</td>\n",
       "      <td>0.0</td>\n",
       "      <td>0</td>\n",
       "      <td>1</td>\n",
       "      <td>0</td>\n",
       "    </tr>\n",
       "  </tbody>\n",
       "</table>\n",
       "</div>"
      ],
      "text/plain": [
       "                            offerid                        customerid  \\\n",
       "0  9b98b8c7a33c4b65b9aebfe6a799e6d9  78afa995795e4d85b5d9ceeca43f5fef   \n",
       "1  2906b810c7d4411798c6938adc9daaa5  e2127556f4f64592b11af22de27a7932   \n",
       "2  f19421c1d4aa40978ebb69ca19b0e20d  389bc3fa690240e798340f5a15918d5c   \n",
       "3  3f207df678b143eea3cee63160fa8bed  2eeac8d8feae4a8cad5a6af0499a211d   \n",
       "4  0b1e1539f2cc45b7b9fa7c272da2e1d7  aa4862eba776480b8bb9c68455b8c2e1   \n",
       "\n",
       "   timedays  completed  received  viewed  \n",
       "0       0.0          0         1       0  \n",
       "1       0.0          0         1       0  \n",
       "2       0.0          0         1       0  \n",
       "3       0.0          0         1       0  \n",
       "4       0.0          0         1       0  "
      ]
     },
     "execution_count": 41,
     "metadata": {},
     "output_type": "execute_result"
    }
   ],
   "source": [
    "offer_data.head()"
   ]
  },
  {
   "cell_type": "code",
   "execution_count": 42,
   "metadata": {},
   "outputs": [],
   "source": [
    "clean_data_csvfile = \"./data/clean_data.csv\""
   ]
  },
  {
   "cell_type": "code",
   "execution_count": 43,
   "metadata": {},
   "outputs": [],
   "source": [
    "if os.path.exists(clean_data_csvfile):\n",
    "    clean_data = pd.read_csv(clean_data_csvfile)\n",
    "else:\n",
    "    clean_data = create_offeranalysis_dataset(profile, portfolio, offer_data, transaction)\n",
    "    clean_data.to_csv(clean_data_csvfile, index=False)"
   ]
  },
  {
   "cell_type": "code",
   "execution_count": 44,
   "metadata": {},
   "outputs": [],
   "source": [
    "clean_data = clean_data.drop(columns=['time', 'customerid', 'email', 'informational'])"
   ]
  },
  {
   "cell_type": "code",
   "execution_count": 45,
   "metadata": {},
   "outputs": [],
   "source": [
    "column_ordering = ['offerid', 'totalamount']\n",
    "column_ordering.extend([elem for elem in clean_data.columns if elem not in column_ordering])"
   ]
  },
  {
   "cell_type": "code",
   "execution_count": 46,
   "metadata": {
    "scrolled": false
   },
   "outputs": [
    {
     "data": {
      "text/html": [
       "<div>\n",
       "<style scoped>\n",
       "    .dataframe tbody tr th:only-of-type {\n",
       "        vertical-align: middle;\n",
       "    }\n",
       "\n",
       "    .dataframe tbody tr th {\n",
       "        vertical-align: top;\n",
       "    }\n",
       "\n",
       "    .dataframe thead th {\n",
       "        text-align: right;\n",
       "    }\n",
       "</style>\n",
       "<table border=\"1\" class=\"dataframe\">\n",
       "  <thead>\n",
       "    <tr style=\"text-align: right;\">\n",
       "      <th></th>\n",
       "      <th>offerid</th>\n",
       "      <th>totalamount</th>\n",
       "      <th>offersuccessful</th>\n",
       "      <th>difficulty</th>\n",
       "      <th>durationdays</th>\n",
       "      <th>reward</th>\n",
       "      <th>bogo</th>\n",
       "      <th>discount</th>\n",
       "      <th>mobile</th>\n",
       "      <th>social</th>\n",
       "      <th>...</th>\n",
       "      <th>[10, 20)</th>\n",
       "      <th>[20, 30)</th>\n",
       "      <th>[30, 40)</th>\n",
       "      <th>[40, 50)</th>\n",
       "      <th>[50, 60)</th>\n",
       "      <th>[60, 70)</th>\n",
       "      <th>[70, 80)</th>\n",
       "      <th>[80, 90)</th>\n",
       "      <th>[90, 100)</th>\n",
       "      <th>[100, 110)</th>\n",
       "    </tr>\n",
       "  </thead>\n",
       "  <tbody>\n",
       "    <tr>\n",
       "      <th>0</th>\n",
       "      <td>9b98b8c7a33c4b65b9aebfe6a799e6d9</td>\n",
       "      <td>37.67</td>\n",
       "      <td>1</td>\n",
       "      <td>5</td>\n",
       "      <td>7</td>\n",
       "      <td>5</td>\n",
       "      <td>1</td>\n",
       "      <td>0</td>\n",
       "      <td>1</td>\n",
       "      <td>0</td>\n",
       "      <td>...</td>\n",
       "      <td>0</td>\n",
       "      <td>0</td>\n",
       "      <td>0</td>\n",
       "      <td>0</td>\n",
       "      <td>0</td>\n",
       "      <td>0</td>\n",
       "      <td>1</td>\n",
       "      <td>0</td>\n",
       "      <td>0</td>\n",
       "      <td>0</td>\n",
       "    </tr>\n",
       "    <tr>\n",
       "      <th>1</th>\n",
       "      <td>4d5c57ea9a6940dd891ad53e9dbe8da0</td>\n",
       "      <td>48.31</td>\n",
       "      <td>1</td>\n",
       "      <td>10</td>\n",
       "      <td>5</td>\n",
       "      <td>10</td>\n",
       "      <td>1</td>\n",
       "      <td>0</td>\n",
       "      <td>1</td>\n",
       "      <td>1</td>\n",
       "      <td>...</td>\n",
       "      <td>0</td>\n",
       "      <td>0</td>\n",
       "      <td>0</td>\n",
       "      <td>0</td>\n",
       "      <td>1</td>\n",
       "      <td>0</td>\n",
       "      <td>0</td>\n",
       "      <td>0</td>\n",
       "      <td>0</td>\n",
       "      <td>0</td>\n",
       "    </tr>\n",
       "    <tr>\n",
       "      <th>2</th>\n",
       "      <td>5a8bc65990b245e5a138643cd4eb9837</td>\n",
       "      <td>23.43</td>\n",
       "      <td>0</td>\n",
       "      <td>0</td>\n",
       "      <td>3</td>\n",
       "      <td>0</td>\n",
       "      <td>0</td>\n",
       "      <td>0</td>\n",
       "      <td>1</td>\n",
       "      <td>1</td>\n",
       "      <td>...</td>\n",
       "      <td>0</td>\n",
       "      <td>0</td>\n",
       "      <td>0</td>\n",
       "      <td>1</td>\n",
       "      <td>0</td>\n",
       "      <td>0</td>\n",
       "      <td>0</td>\n",
       "      <td>0</td>\n",
       "      <td>0</td>\n",
       "      <td>0</td>\n",
       "    </tr>\n",
       "    <tr>\n",
       "      <th>3</th>\n",
       "      <td>9b98b8c7a33c4b65b9aebfe6a799e6d9</td>\n",
       "      <td>52.24</td>\n",
       "      <td>0</td>\n",
       "      <td>5</td>\n",
       "      <td>7</td>\n",
       "      <td>5</td>\n",
       "      <td>1</td>\n",
       "      <td>0</td>\n",
       "      <td>1</td>\n",
       "      <td>0</td>\n",
       "      <td>...</td>\n",
       "      <td>0</td>\n",
       "      <td>0</td>\n",
       "      <td>0</td>\n",
       "      <td>0</td>\n",
       "      <td>0</td>\n",
       "      <td>0</td>\n",
       "      <td>1</td>\n",
       "      <td>0</td>\n",
       "      <td>0</td>\n",
       "      <td>0</td>\n",
       "    </tr>\n",
       "    <tr>\n",
       "      <th>4</th>\n",
       "      <td>fafdcd668e3743c1bb461111dcafc2a4</td>\n",
       "      <td>5.12</td>\n",
       "      <td>0</td>\n",
       "      <td>10</td>\n",
       "      <td>10</td>\n",
       "      <td>2</td>\n",
       "      <td>0</td>\n",
       "      <td>1</td>\n",
       "      <td>1</td>\n",
       "      <td>1</td>\n",
       "      <td>...</td>\n",
       "      <td>0</td>\n",
       "      <td>0</td>\n",
       "      <td>1</td>\n",
       "      <td>0</td>\n",
       "      <td>0</td>\n",
       "      <td>0</td>\n",
       "      <td>0</td>\n",
       "      <td>0</td>\n",
       "      <td>0</td>\n",
       "      <td>0</td>\n",
       "    </tr>\n",
       "  </tbody>\n",
       "</table>\n",
       "<p>5 rows × 29 columns</p>\n",
       "</div>"
      ],
      "text/plain": [
       "                            offerid  totalamount  offersuccessful  difficulty  \\\n",
       "0  9b98b8c7a33c4b65b9aebfe6a799e6d9        37.67                1           5   \n",
       "1  4d5c57ea9a6940dd891ad53e9dbe8da0        48.31                1          10   \n",
       "2  5a8bc65990b245e5a138643cd4eb9837        23.43                0           0   \n",
       "3  9b98b8c7a33c4b65b9aebfe6a799e6d9        52.24                0           5   \n",
       "4  fafdcd668e3743c1bb461111dcafc2a4         5.12                0          10   \n",
       "\n",
       "   durationdays  reward  bogo  discount  mobile  social  ...  [10, 20)  \\\n",
       "0             7       5     1         0       1       0  ...         0   \n",
       "1             5      10     1         0       1       1  ...         0   \n",
       "2             3       0     0         0       1       1  ...         0   \n",
       "3             7       5     1         0       1       0  ...         0   \n",
       "4            10       2     0         1       1       1  ...         0   \n",
       "\n",
       "   [20, 30)  [30, 40)  [40, 50)  [50, 60)  [60, 70)  [70, 80)  [80, 90)  \\\n",
       "0         0         0         0         0         0         1         0   \n",
       "1         0         0         0         1         0         0         0   \n",
       "2         0         0         1         0         0         0         0   \n",
       "3         0         0         0         0         0         1         0   \n",
       "4         0         1         0         0         0         0         0   \n",
       "\n",
       "   [90, 100)  [100, 110)  \n",
       "0          0           0  \n",
       "1          0           0  \n",
       "2          0           0  \n",
       "3          0           0  \n",
       "4          0           0  \n",
       "\n",
       "[5 rows x 29 columns]"
      ]
     },
     "execution_count": 46,
     "metadata": {},
     "output_type": "execute_result"
    }
   ],
   "source": [
    "clean_data = clean_data[column_ordering]\n",
    "clean_data.head()"
   ]
  },
  {
   "cell_type": "markdown",
   "metadata": {},
   "source": [
    "## Train test split the data"
   ]
  },
  {
   "cell_type": "code",
   "execution_count": 47,
   "metadata": {},
   "outputs": [],
   "source": [
    "random_state = 1234567890\n",
    "class_label_name = 'offersuccessful'\n",
    "variables = clean_data.drop(columns=[class_label_name])\n",
    "class_label = clean_data.filter([class_label_name])\n",
    "(X_train, X_test, y_train, y_test) = train_test_split(variables.values, class_label.values, test_size=0.2, random_state=random_state)\n",
    "variable_names = variables.columns[2:]"
   ]
  },
  {
   "cell_type": "code",
   "execution_count": 48,
   "metadata": {},
   "outputs": [],
   "source": [
    "offerid_train = X_train[:, 0]\n",
    "totalamount_train = X_train[:, 1]\n",
    "X_train = X_train[:, 2:].astype('float64')\n",
    "\n",
    "offerid_test = X_test[:, 0]\n",
    "totalamount_test = X_test[:, 1]\n",
    "X_test = X_test[:, 2:].astype('float64')\n",
    "\n",
    "y_train = y_train.ravel()\n",
    "y_test = y_test.ravel()"
   ]
  },
  {
   "cell_type": "code",
   "execution_count": 49,
   "metadata": {},
   "outputs": [
    {
     "name": "stdout",
     "output_type": "stream",
     "text": [
      "Index(['difficulty', 'durationdays', 'reward', 'bogo', 'discount', 'mobile',\n",
      "       'social', 'web', 'gender', 'income', '2013', '2014', '2015', '2016',\n",
      "       '2017', '2018', '[10, 20)', '[20, 30)', '[30, 40)', '[40, 50)',\n",
      "       '[50, 60)', '[60, 70)', '[70, 80)', '[80, 90)', '[90, 100)',\n",
      "       '[100, 110)'],\n",
      "      dtype='object')\n"
     ]
    }
   ],
   "source": [
    "print(variable_names)"
   ]
  },
  {
   "cell_type": "code",
   "execution_count": 50,
   "metadata": {},
   "outputs": [],
   "source": [
    "# Only interested in customer data\n",
    "training_variables = pd.DataFrame(X_train, columns=variable_names)\n",
    "training_labels = pd.DataFrame(y_train, columns=[class_label_name])\n",
    "training_offerid = pd.DataFrame(offerid_train, columns=['offerid'])\n",
    "training_data = pd.concat([training_offerid, training_variables, training_labels], axis=1)\n",
    "training_data = training_data.drop(columns=['difficulty', 'durationdays', 'reward', 'bogo', 'discount', 'mobile', 'social', 'web'])"
   ]
  },
  {
   "cell_type": "code",
   "execution_count": 51,
   "metadata": {},
   "outputs": [
    {
     "data": {
      "text/html": [
       "<div>\n",
       "<style scoped>\n",
       "    .dataframe tbody tr th:only-of-type {\n",
       "        vertical-align: middle;\n",
       "    }\n",
       "\n",
       "    .dataframe tbody tr th {\n",
       "        vertical-align: top;\n",
       "    }\n",
       "\n",
       "    .dataframe thead th {\n",
       "        text-align: right;\n",
       "    }\n",
       "</style>\n",
       "<table border=\"1\" class=\"dataframe\">\n",
       "  <thead>\n",
       "    <tr style=\"text-align: right;\">\n",
       "      <th></th>\n",
       "      <th>offerid</th>\n",
       "      <th>gender</th>\n",
       "      <th>income</th>\n",
       "      <th>2013</th>\n",
       "      <th>2014</th>\n",
       "      <th>2015</th>\n",
       "      <th>2016</th>\n",
       "      <th>2017</th>\n",
       "      <th>2018</th>\n",
       "      <th>[10, 20)</th>\n",
       "      <th>[20, 30)</th>\n",
       "      <th>[30, 40)</th>\n",
       "      <th>[40, 50)</th>\n",
       "      <th>[50, 60)</th>\n",
       "      <th>[60, 70)</th>\n",
       "      <th>[70, 80)</th>\n",
       "      <th>[80, 90)</th>\n",
       "      <th>[90, 100)</th>\n",
       "      <th>[100, 110)</th>\n",
       "      <th>offersuccessful</th>\n",
       "    </tr>\n",
       "  </thead>\n",
       "  <tbody>\n",
       "    <tr>\n",
       "      <th>0</th>\n",
       "      <td>fafdcd668e3743c1bb461111dcafc2a4</td>\n",
       "      <td>0.0</td>\n",
       "      <td>72000.0</td>\n",
       "      <td>0.0</td>\n",
       "      <td>0.0</td>\n",
       "      <td>0.0</td>\n",
       "      <td>0.0</td>\n",
       "      <td>1.0</td>\n",
       "      <td>0.0</td>\n",
       "      <td>0.0</td>\n",
       "      <td>0.0</td>\n",
       "      <td>1.0</td>\n",
       "      <td>0.0</td>\n",
       "      <td>0.0</td>\n",
       "      <td>0.0</td>\n",
       "      <td>0.0</td>\n",
       "      <td>0.0</td>\n",
       "      <td>0.0</td>\n",
       "      <td>0.0</td>\n",
       "      <td>1</td>\n",
       "    </tr>\n",
       "    <tr>\n",
       "      <th>1</th>\n",
       "      <td>9b98b8c7a33c4b65b9aebfe6a799e6d9</td>\n",
       "      <td>0.0</td>\n",
       "      <td>119000.0</td>\n",
       "      <td>0.0</td>\n",
       "      <td>0.0</td>\n",
       "      <td>0.0</td>\n",
       "      <td>0.0</td>\n",
       "      <td>1.0</td>\n",
       "      <td>0.0</td>\n",
       "      <td>0.0</td>\n",
       "      <td>0.0</td>\n",
       "      <td>0.0</td>\n",
       "      <td>0.0</td>\n",
       "      <td>0.0</td>\n",
       "      <td>0.0</td>\n",
       "      <td>0.0</td>\n",
       "      <td>1.0</td>\n",
       "      <td>0.0</td>\n",
       "      <td>0.0</td>\n",
       "      <td>1</td>\n",
       "    </tr>\n",
       "    <tr>\n",
       "      <th>2</th>\n",
       "      <td>2298d6c36e964ae4a3e7e9706d1fb8c2</td>\n",
       "      <td>0.0</td>\n",
       "      <td>104000.0</td>\n",
       "      <td>0.0</td>\n",
       "      <td>0.0</td>\n",
       "      <td>0.0</td>\n",
       "      <td>0.0</td>\n",
       "      <td>0.0</td>\n",
       "      <td>1.0</td>\n",
       "      <td>0.0</td>\n",
       "      <td>0.0</td>\n",
       "      <td>0.0</td>\n",
       "      <td>0.0</td>\n",
       "      <td>1.0</td>\n",
       "      <td>0.0</td>\n",
       "      <td>0.0</td>\n",
       "      <td>0.0</td>\n",
       "      <td>0.0</td>\n",
       "      <td>0.0</td>\n",
       "      <td>1</td>\n",
       "    </tr>\n",
       "    <tr>\n",
       "      <th>3</th>\n",
       "      <td>3f207df678b143eea3cee63160fa8bed</td>\n",
       "      <td>1.0</td>\n",
       "      <td>71000.0</td>\n",
       "      <td>0.0</td>\n",
       "      <td>0.0</td>\n",
       "      <td>0.0</td>\n",
       "      <td>0.0</td>\n",
       "      <td>0.0</td>\n",
       "      <td>1.0</td>\n",
       "      <td>0.0</td>\n",
       "      <td>0.0</td>\n",
       "      <td>0.0</td>\n",
       "      <td>1.0</td>\n",
       "      <td>0.0</td>\n",
       "      <td>0.0</td>\n",
       "      <td>0.0</td>\n",
       "      <td>0.0</td>\n",
       "      <td>0.0</td>\n",
       "      <td>0.0</td>\n",
       "      <td>0</td>\n",
       "    </tr>\n",
       "    <tr>\n",
       "      <th>4</th>\n",
       "      <td>2298d6c36e964ae4a3e7e9706d1fb8c2</td>\n",
       "      <td>1.0</td>\n",
       "      <td>38000.0</td>\n",
       "      <td>0.0</td>\n",
       "      <td>0.0</td>\n",
       "      <td>0.0</td>\n",
       "      <td>0.0</td>\n",
       "      <td>1.0</td>\n",
       "      <td>0.0</td>\n",
       "      <td>0.0</td>\n",
       "      <td>0.0</td>\n",
       "      <td>1.0</td>\n",
       "      <td>0.0</td>\n",
       "      <td>0.0</td>\n",
       "      <td>0.0</td>\n",
       "      <td>0.0</td>\n",
       "      <td>0.0</td>\n",
       "      <td>0.0</td>\n",
       "      <td>0.0</td>\n",
       "      <td>0</td>\n",
       "    </tr>\n",
       "  </tbody>\n",
       "</table>\n",
       "</div>"
      ],
      "text/plain": [
       "                            offerid  gender    income  2013  2014  2015  2016  \\\n",
       "0  fafdcd668e3743c1bb461111dcafc2a4     0.0   72000.0   0.0   0.0   0.0   0.0   \n",
       "1  9b98b8c7a33c4b65b9aebfe6a799e6d9     0.0  119000.0   0.0   0.0   0.0   0.0   \n",
       "2  2298d6c36e964ae4a3e7e9706d1fb8c2     0.0  104000.0   0.0   0.0   0.0   0.0   \n",
       "3  3f207df678b143eea3cee63160fa8bed     1.0   71000.0   0.0   0.0   0.0   0.0   \n",
       "4  2298d6c36e964ae4a3e7e9706d1fb8c2     1.0   38000.0   0.0   0.0   0.0   0.0   \n",
       "\n",
       "   2017  2018  [10, 20)  [20, 30)  [30, 40)  [40, 50)  [50, 60)  [60, 70)  \\\n",
       "0   1.0   0.0       0.0       0.0       1.0       0.0       0.0       0.0   \n",
       "1   1.0   0.0       0.0       0.0       0.0       0.0       0.0       0.0   \n",
       "2   0.0   1.0       0.0       0.0       0.0       0.0       1.0       0.0   \n",
       "3   0.0   1.0       0.0       0.0       0.0       1.0       0.0       0.0   \n",
       "4   1.0   0.0       0.0       0.0       1.0       0.0       0.0       0.0   \n",
       "\n",
       "   [70, 80)  [80, 90)  [90, 100)  [100, 110)  offersuccessful  \n",
       "0       0.0       0.0        0.0         0.0                1  \n",
       "1       0.0       1.0        0.0         0.0                1  \n",
       "2       0.0       0.0        0.0         0.0                1  \n",
       "3       0.0       0.0        0.0         0.0                0  \n",
       "4       0.0       0.0        0.0         0.0                0  "
      ]
     },
     "execution_count": 51,
     "metadata": {},
     "output_type": "execute_result"
    }
   ],
   "source": [
    "training_data.head()"
   ]
  },
  {
   "cell_type": "code",
   "execution_count": 52,
   "metadata": {},
   "outputs": [],
   "source": [
    "percent_success = initialize_percent_success(portfolio, training_data)"
   ]
  },
  {
   "cell_type": "code",
   "execution_count": 53,
   "metadata": {},
   "outputs": [
    {
     "data": {
      "text/html": [
       "<div>\n",
       "<style scoped>\n",
       "    .dataframe tbody tr th:only-of-type {\n",
       "        vertical-align: middle;\n",
       "    }\n",
       "\n",
       "    .dataframe tbody tr th {\n",
       "        vertical-align: top;\n",
       "    }\n",
       "\n",
       "    .dataframe thead th {\n",
       "        text-align: right;\n",
       "    }\n",
       "</style>\n",
       "<table border=\"1\" class=\"dataframe\">\n",
       "  <thead>\n",
       "    <tr style=\"text-align: right;\">\n",
       "      <th></th>\n",
       "      <th>offerid</th>\n",
       "      <th>count</th>\n",
       "      <th>percentsuccess</th>\n",
       "      <th>difficulty</th>\n",
       "      <th>durationdays</th>\n",
       "      <th>reward</th>\n",
       "      <th>bogo</th>\n",
       "      <th>discount</th>\n",
       "      <th>informational</th>\n",
       "      <th>email</th>\n",
       "      <th>mobile</th>\n",
       "      <th>social</th>\n",
       "      <th>web</th>\n",
       "    </tr>\n",
       "  </thead>\n",
       "  <tbody>\n",
       "    <tr>\n",
       "      <th>0</th>\n",
       "      <td>fafdcd668e3743c1bb461111dcafc2a4</td>\n",
       "      <td>5225</td>\n",
       "      <td>75.138756</td>\n",
       "      <td>10</td>\n",
       "      <td>10</td>\n",
       "      <td>2</td>\n",
       "      <td>0</td>\n",
       "      <td>1</td>\n",
       "      <td>0</td>\n",
       "      <td>1</td>\n",
       "      <td>1</td>\n",
       "      <td>1</td>\n",
       "      <td>1</td>\n",
       "    </tr>\n",
       "    <tr>\n",
       "      <th>1</th>\n",
       "      <td>2298d6c36e964ae4a3e7e9706d1fb8c2</td>\n",
       "      <td>5198</td>\n",
       "      <td>73.335898</td>\n",
       "      <td>7</td>\n",
       "      <td>7</td>\n",
       "      <td>3</td>\n",
       "      <td>0</td>\n",
       "      <td>1</td>\n",
       "      <td>0</td>\n",
       "      <td>1</td>\n",
       "      <td>1</td>\n",
       "      <td>1</td>\n",
       "      <td>1</td>\n",
       "    </tr>\n",
       "    <tr>\n",
       "      <th>2</th>\n",
       "      <td>f19421c1d4aa40978ebb69ca19b0e20d</td>\n",
       "      <td>5196</td>\n",
       "      <td>61.528099</td>\n",
       "      <td>5</td>\n",
       "      <td>5</td>\n",
       "      <td>5</td>\n",
       "      <td>1</td>\n",
       "      <td>0</td>\n",
       "      <td>0</td>\n",
       "      <td>1</td>\n",
       "      <td>1</td>\n",
       "      <td>1</td>\n",
       "      <td>1</td>\n",
       "    </tr>\n",
       "    <tr>\n",
       "      <th>3</th>\n",
       "      <td>ae264e3637204a6fb9bb56bc8210ddfd</td>\n",
       "      <td>5302</td>\n",
       "      <td>54.696341</td>\n",
       "      <td>10</td>\n",
       "      <td>7</td>\n",
       "      <td>10</td>\n",
       "      <td>1</td>\n",
       "      <td>0</td>\n",
       "      <td>0</td>\n",
       "      <td>1</td>\n",
       "      <td>1</td>\n",
       "      <td>1</td>\n",
       "      <td>0</td>\n",
       "    </tr>\n",
       "    <tr>\n",
       "      <th>4</th>\n",
       "      <td>4d5c57ea9a6940dd891ad53e9dbe8da0</td>\n",
       "      <td>5248</td>\n",
       "      <td>51.753049</td>\n",
       "      <td>10</td>\n",
       "      <td>5</td>\n",
       "      <td>10</td>\n",
       "      <td>1</td>\n",
       "      <td>0</td>\n",
       "      <td>0</td>\n",
       "      <td>1</td>\n",
       "      <td>1</td>\n",
       "      <td>1</td>\n",
       "      <td>1</td>\n",
       "    </tr>\n",
       "  </tbody>\n",
       "</table>\n",
       "</div>"
      ],
      "text/plain": [
       "                            offerid  count  percentsuccess  difficulty  \\\n",
       "0  fafdcd668e3743c1bb461111dcafc2a4   5225       75.138756          10   \n",
       "1  2298d6c36e964ae4a3e7e9706d1fb8c2   5198       73.335898           7   \n",
       "2  f19421c1d4aa40978ebb69ca19b0e20d   5196       61.528099           5   \n",
       "3  ae264e3637204a6fb9bb56bc8210ddfd   5302       54.696341          10   \n",
       "4  4d5c57ea9a6940dd891ad53e9dbe8da0   5248       51.753049          10   \n",
       "\n",
       "   durationdays  reward  bogo  discount  informational  email  mobile  social  \\\n",
       "0            10       2     0         1              0      1       1       1   \n",
       "1             7       3     0         1              0      1       1       1   \n",
       "2             5       5     1         0              0      1       1       1   \n",
       "3             7      10     1         0              0      1       1       1   \n",
       "4             5      10     1         0              0      1       1       1   \n",
       "\n",
       "   web  \n",
       "0    1  \n",
       "1    1  \n",
       "2    1  \n",
       "3    0  \n",
       "4    1  "
      ]
     },
     "execution_count": 53,
     "metadata": {},
     "output_type": "execute_result"
    }
   ],
   "source": [
    "percent_success.head()"
   ]
  },
  {
   "cell_type": "code",
   "execution_count": 69,
   "metadata": {},
   "outputs": [
    {
     "data": {
      "image/png": "[encoded data removed]",
      "text/plain": [
       "<Figure size 720x288 with 2 Axes>"
      ]
     },
     "metadata": {
      "needs_background": "light"
     },
     "output_type": "display_data"
    }
   ],
   "source": [
    "f, ax = plt.subplots(figsize=(10, 4), nrows=1, ncols=2)\n",
    "\n",
    "ax[0].bar(percent_success.index + 1, percent_success['count'])\n",
    "ax[0].set_xticks(np.arange(0,10) + 1)\n",
    "ax[0].set_xlabel('Offer #')\n",
    "ax[0].set_ylabel('Count')\n",
    "\n",
    "ax[1].plot(percent_success.index + 1,\n",
    "           percent_success['percentsuccess'],\n",
    "           linewidth=3)\n",
    "ax[1].set_xticks(np.arange(0,10) + 1)\n",
    "ax[1].set_xlabel('Offer number')\n",
    "ax[1].set_ylabel('Success rate')\n",
    "plt.tight_layout()"
   ]
  },
  {
   "cell_type": "code",
   "execution_count": 55,
   "metadata": {},
   "outputs": [],
   "source": [
    "# Variable transformation\n",
    "\n",
    "variables_to_scale = ['difficulty', 'durationdays', 'reward', 'income']\n",
    "\n",
    "min_max_scaler = {}\n",
    "\n",
    "for idx in range(len(variables_to_scale)):\n",
    "    column_idx = np.argwhere(variable_names == variables_to_scale[idx])[0, 0]\n",
    "    cur_column = variables_to_scale[idx]\n",
    "    min_max_scaler[cur_column] = MinMaxScaler()\n",
    "    min_max_scaler[cur_column].fit(X_train[:, column_idx].reshape(-1, 1))\n",
    "    transformed_values = min_max_scaler[cur_column].transform(X_train[:, column_idx].reshape(-1, 1))\n",
    "    X_train[:, column_idx] = transformed_values.reshape(1, -1)\n",
    "    transformed_values = min_max_scaler[cur_column].transform(X_test[:, column_idx].reshape(-1, 1))\n",
    "    X_test[:, column_idx] = transformed_values.reshape(1, -1)"
   ]
  },
  {
   "cell_type": "code",
   "execution_count": 56,
   "metadata": {},
   "outputs": [
    {
     "data": {
      "text/plain": [
       "{'F': 0, 'M': 1}"
      ]
     },
     "execution_count": 56,
     "metadata": {},
     "output_type": "execute_result"
    }
   ],
   "source": [
    "gender_integer_map"
   ]
  },
  {
   "cell_type": "markdown",
   "metadata": {},
   "source": [
    "# Analyses on cleaned data"
   ]
  },
  {
   "cell_type": "code",
   "execution_count": 57,
   "metadata": {
    "scrolled": false
   },
   "outputs": [
    {
     "name": "stdout",
     "output_type": "stream",
     "text": [
      "offerid: fafdcd668e3743c1bb461111dcafc2a4\n",
      "Offer successful\n",
      "\tAverage customer income: $66030.4\n",
      "\tAverage customer age: 55.6 [years]\n",
      "Offer unsuccessful\n",
      "\tAverage customer income: $56994.5\n",
      "\tAverage customer age: 52.7 [years]\n",
      "   gender  percentage successful\n",
      "0    Male   55.348956        Yes\n",
      "1  Female   44.651044        Yes\n",
      "2    Male   69.899923         No\n",
      "3  Female   30.100077         No\n",
      "    membershipstartyear  percentage successful\n",
      "0                  2013    2.266938        Yes\n",
      "6                  2013    0.384911         No\n",
      "1                  2014    5.501783        Yes\n",
      "7                  2014    2.001540         No\n",
      "2                  2015   13.983698        Yes\n",
      "8                  2015    2.155504         No\n",
      "3                  2016   25.496689        Yes\n",
      "9                  2016    2.925327         No\n",
      "4                  2017   35.506877        Yes\n",
      "10                 2017   39.568899         No\n",
      "5                  2018   17.244014        Yes\n",
      "11                 2018   52.963818         No\n"
     ]
    },
    {
     "data": {
      "image/png": "[encoded data removed]",
      "text/plain": [
       "<Figure size 864x1008 with 4 Axes>"
      ]
     },
     "metadata": {
      "needs_background": "light"
     },
     "output_type": "display_data"
    }
   ],
   "source": [
    "explore_customer_offer(0, percent_success, training_data, gender_integer_map)"
   ]
  },
  {
   "cell_type": "code",
   "execution_count": 59,
   "metadata": {},
   "outputs": [
    {
     "name": "stdout",
     "output_type": "stream",
     "text": [
      "offerid: 5a8bc65990b245e5a138643cd4eb9837\n",
      "Offer successful\n",
      "\tAverage customer income: $63499.6\n",
      "\tAverage customer age: 56.8 [years]\n",
      "Offer unsuccessful\n",
      "\tAverage customer income: $64001.6\n",
      "\tAverage customer age: 55.3 [years]\n",
      "   gender  percentage successful\n",
      "0    Male   55.696203        Yes\n",
      "1  Female   44.303797        Yes\n",
      "2    Male   57.336572         No\n",
      "3  Female   42.663428         No\n",
      "    membershipstartyear  percentage successful\n",
      "0                  2013    2.531646        Yes\n",
      "6                  2013    1.619105         No\n",
      "1                  2014    6.012658        Yes\n",
      "7                  2014    4.169197         No\n",
      "2                  2015   12.974684        Yes\n",
      "8                  2015   10.422991         No\n",
      "3                  2016   27.531646        Yes\n",
      "9                  2016   20.461445         No\n",
      "4                  2017   35.759494        Yes\n",
      "10                 2017   38.575187         No\n",
      "5                  2018   15.189873        Yes\n",
      "11                 2018   24.752074         No\n"
     ]
    },
    {
     "data": {
      "image/png": "[encoded data removed]",
      "text/plain": [
       "<Figure size 864x1008 with 4 Axes>"
      ]
     },
     "metadata": {
      "needs_background": "light"
     },
     "output_type": "display_data"
    }
   ],
   "source": [
    "explore_customer_offer(9, percent_success, training_data, gender_integer_map)"
   ]
  },
  {
   "cell_type": "markdown",
   "metadata": {},
   "source": [
    "# Modelling"
   ]
  },
  {
   "cell_type": "code",
   "execution_count": 60,
   "metadata": {},
   "outputs": [
    {
     "name": "stdout",
     "output_type": "stream",
     "text": [
      "Naive predictor accuracy: 0.472\n",
      "Naive predictor f1-score: 0.641\n"
     ]
    }
   ],
   "source": [
    "naive_predictor_accuracy = accuracy_score(y_train,np.ones(len(y_train)))\n",
    "naive_predictor_f1score = f1_score(y_train, np.ones(len(y_train)))\n",
    "\n",
    "print(\"Naive predictor accuracy: %.3f\" % (naive_predictor_accuracy))\n",
    "print(\"Naive predictor f1-score: %.3f\" % (naive_predictor_f1score))"
   ]
  },
  {
   "cell_type": "code",
   "execution_count": 61,
   "metadata": {},
   "outputs": [],
   "source": [
    "model_dir = \"./models\"\n",
    "if not os.path.exists(model_dir):\n",
    "    os.mkdir(model_dir)\n",
    "    \n",
    "lr_model_path = os.path.join(model_dir, 'lr_clf.joblib')\n",
    "\n",
    "scorer = make_scorer(fbeta_score,\n",
    "                     beta=0.5)\n",
    "\n",
    "if os.path.exists(lr_model_path):\n",
    "    lr_random = load(lr_model_path)\n",
    "else:\n",
    "    lr_clf = LogisticRegression(random_state=random_state,\n",
    "                                solver='liblinear')\n",
    "\n",
    "    random_grid = {'penalty': ['l1', 'l2'],\n",
    "                   'C': [1.0, 0.1, 0.01]}\n",
    "\n",
    "    lr_random = RandomizedSearchCV(estimator = lr_clf,\n",
    "                                   param_distributions = random_grid,\n",
    "                                   scoring=scorer,\n",
    "                                   n_iter = 6,\n",
    "                                   cv = 3,\n",
    "                                   verbose=2,\n",
    "                                   random_state=random_state,\n",
    "                                   n_jobs = 3)\n",
    "\n",
    "    lr_random.fit(X_train, y_train)\n",
    "\n",
    "    dump(lr_random, lr_model_path)"
   ]
  },
  {
   "cell_type": "code",
   "execution_count": 62,
   "metadata": {},
   "outputs": [],
   "source": [
    "def evaluate_model_performance(clf, X_train, y_train):\n",
    "    '''\n",
    "    Prints a model's accuracy and F1-score\n",
    "    \n",
    "    INPUT:\n",
    "        clf: Model object\n",
    "        \n",
    "        X_train: Training data matrix/\n",
    "\n",
    "        y_train: Expected model output vector\n",
    "    \n",
    "    OUTPUT:\n",
    "        clf_accuracy: Model accuracy\n",
    "        \n",
    "        clf_f1_score: Model F1-score\n",
    "    '''\n",
    "    class_name = re.sub(\"[<>']\", '', str(clf.__class__))\n",
    "    class_name = class_name.split(' ')[1]\n",
    "    class_name = class_name.split('.')[-1]\n",
    "\n",
    "    y_pred_rf = clf.predict(X_train)\n",
    "\n",
    "    clf_accuracy = accuracy_score(y_train, y_pred_rf)\n",
    "    clf_f1_score = f1_score(y_train, y_pred_rf)\n",
    "    \n",
    "    print(\"%s model accuracy: %.3f\" % (class_name, clf_accuracy))\n",
    "    print(\"%s model f1-score: %.3f\" % (class_name, clf_f1_score))\n",
    "    \n",
    "    return clf_accuracy, clf_f1_score"
   ]
  },
  {
   "cell_type": "code",
   "execution_count": 63,
   "metadata": {},
   "outputs": [
    {
     "name": "stdout",
     "output_type": "stream",
     "text": [
      "LogisticRegression model accuracy: 0.723\n",
      "LogisticRegression model f1-score: 0.718\n"
     ]
    },
    {
     "data": {
      "text/plain": [
       "(0.7229740032019517, 0.7175091831380093)"
      ]
     },
     "execution_count": 63,
     "metadata": {},
     "output_type": "execute_result"
    }
   ],
   "source": [
    "evaluate_model_performance(lr_random.best_estimator_, X_train, y_train)"
   ]
  },
  {
   "cell_type": "code",
   "execution_count": 64,
   "metadata": {},
   "outputs": [],
   "source": [
    "rf_model_path = os.path.join(model_dir, 'rf_clf.joblib')\n",
    "\n",
    "if os.path.exists(rf_model_path):\n",
    "    rf_random = load(rf_model_path)\n",
    "else:\n",
    "    rf_clf = RandomForestClassifier(random_state=random_state)\n",
    "\n",
    "    # Number of trees in random forest\n",
    "    n_estimators = [10, 30, 50, 100, 150, 200, 250, 300]\n",
    "\n",
    "    # Number of features to consider at every split\n",
    "    max_features = ['auto', 'sqrt']\n",
    "\n",
    "    # Maximum number of levels in tree\n",
    "    max_depth = [int(x) for x in np.arange(3, 11)]\n",
    "    max_depth.append(None)\n",
    "\n",
    "    # Minimum number of samples required to split a node\n",
    "    min_samples_split = [2, 5, 10]\n",
    "\n",
    "    # Minimum number of samples required at each leaf node\n",
    "    min_samples_leaf = [1, 2, 4]\n",
    "\n",
    "    # Create the random grid\n",
    "    random_grid = {'n_estimators': n_estimators,\n",
    "                   'max_features': max_features,\n",
    "                   'max_depth': max_depth,\n",
    "                   'min_samples_split': min_samples_split,\n",
    "                   'min_samples_leaf': min_samples_leaf}\n",
    "\n",
    "    rf_random = RandomizedSearchCV(estimator = rf_clf,\n",
    "                                   param_distributions = random_grid,\n",
    "                                   scoring=scorer,\n",
    "                                   n_iter = 100,\n",
    "                                   cv = 3,\n",
    "                                   verbose=2,\n",
    "                                   random_state=random_state,\n",
    "                                   n_jobs = 3)\n",
    "\n",
    "    rf_random.fit(X_train, y_train)\n",
    "    \n",
    "    dump(rf_random, rf_model_path)"
   ]
  },
  {
   "cell_type": "code",
   "execution_count": 65,
   "metadata": {},
   "outputs": [
    {
     "name": "stdout",
     "output_type": "stream",
     "text": [
      "RandomForestClassifier model accuracy: 0.744\n",
      "RandomForestClassifier model f1-score: 0.738\n"
     ]
    },
    {
     "data": {
      "text/plain": [
       "(0.7444156438209957, 0.7381063979376611)"
      ]
     },
     "execution_count": 65,
     "metadata": {},
     "output_type": "execute_result"
    }
   ],
   "source": [
    "evaluate_model_performance(rf_random.best_estimator_, X_train, y_train)"
   ]
  },
  {
   "cell_type": "code",
   "execution_count": 66,
   "metadata": {},
   "outputs": [
    {
     "data": {
      "text/plain": [
       "Text(0.5, 1.0, 'Random Forest Estimated Feature Importance')"
      ]
     },
     "execution_count": 66,
     "metadata": {},
     "output_type": "execute_result"
    },
    {
     "data": {
      "image/png": "[encoded data removed]",
      "text/plain": [
       "<Figure size 576x576 with 1 Axes>"
      ]
     },
     "metadata": {
      "needs_background": "light"
     },
     "output_type": "display_data"
    }
   ],
   "source": [
    "relative_importance = rf_random.best_estimator_.feature_importances_\n",
    "relative_importance = relative_importance / np.sum(relative_importance)\n",
    "\n",
    "feature_importance = pd.DataFrame(list(zip(variable_names,\n",
    "                          relative_importance)),\n",
    "                 columns=['feature', 'relativeimportance'])\n",
    "\n",
    "feature_importance = feature_importance.sort_values('relativeimportance',\n",
    "                                                    ascending=False)\n",
    "\n",
    "feature_importance = feature_importance.reset_index(drop=True)\n",
    "\n",
    "palette = sns.color_palette(\"Blues_r\", feature_importance.shape[0])\n",
    "\n",
    "plt.figure(figsize=(8, 8))\n",
    "sns.barplot(x='relativeimportance', y='feature', data=feature_importance, palette=palette)\n",
    "plt.xlabel('Relative Importance')\n",
    "plt.ylabel('Feature')\n",
    "plt.title('Random Forest Estimated Feature Importance')"
   ]
  },
  {
   "cell_type": "code",
   "execution_count": 67,
   "metadata": {},
   "outputs": [
    {
     "name": "stdout",
     "output_type": "stream",
     "text": [
      "RandomForestClassifier model accuracy: 0.729\n",
      "RandomForestClassifier model f1-score: 0.721\n"
     ]
    },
    {
     "data": {
      "text/plain": [
       "(0.7288251886864374, 0.721303768706417)"
      ]
     },
     "execution_count": 67,
     "metadata": {},
     "output_type": "execute_result"
    }
   ],
   "source": [
    "evaluate_model_performance(rf_random.best_estimator_, X_test, y_test)"
   ]
  },
  {
   "cell_type": "code",
   "execution_count": 68,
   "metadata": {},
   "outputs": [
    {
     "data": {
      "text/html": [
       "<div>\n",
       "<style scoped>\n",
       "    .dataframe tbody tr th:only-of-type {\n",
       "        vertical-align: middle;\n",
       "    }\n",
       "\n",
       "    .dataframe tbody tr th {\n",
       "        vertical-align: top;\n",
       "    }\n",
       "\n",
       "    .dataframe thead th {\n",
       "        text-align: right;\n",
       "    }\n",
       "</style>\n",
       "<table border=\"1\" class=\"dataframe\">\n",
       "  <thead>\n",
       "    <tr style=\"text-align: right;\">\n",
       "      <th></th>\n",
       "      <th>feature</th>\n",
       "      <th>relativeimportance</th>\n",
       "    </tr>\n",
       "  </thead>\n",
       "  <tbody>\n",
       "    <tr>\n",
       "      <th>0</th>\n",
       "      <td>reward</td>\n",
       "      <td>0.186377</td>\n",
       "    </tr>\n",
       "    <tr>\n",
       "      <th>1</th>\n",
       "      <td>difficulty</td>\n",
       "      <td>0.172014</td>\n",
       "    </tr>\n",
       "    <tr>\n",
       "      <th>2</th>\n",
       "      <td>durationdays</td>\n",
       "      <td>0.166036</td>\n",
       "    </tr>\n",
       "    <tr>\n",
       "      <th>3</th>\n",
       "      <td>income</td>\n",
       "      <td>0.110678</td>\n",
       "    </tr>\n",
       "    <tr>\n",
       "      <th>4</th>\n",
       "      <td>2018</td>\n",
       "      <td>0.093355</td>\n",
       "    </tr>\n",
       "  </tbody>\n",
       "</table>\n",
       "</div>"
      ],
      "text/plain": [
       "        feature  relativeimportance\n",
       "0        reward            0.186377\n",
       "1    difficulty            0.172014\n",
       "2  durationdays            0.166036\n",
       "3        income            0.110678\n",
       "4          2018            0.093355"
      ]
     },
     "execution_count": 68,
     "metadata": {},
     "output_type": "execute_result"
    }
   ],
   "source": [
    "feature_importance.head(n=5)"
   ]
  },
  {
   "cell_type": "code",
   "execution_count": null,
   "metadata": {},
   "outputs": [],
   "source": []
  }
 ],
 "metadata": {
  "kernelspec": {
   "display_name": "Python 3",
   "language": "python",
   "name": "python3"
  },
  "language_info": {
   "codemirror_mode": {
    "name": "ipython",
    "version": 3
   },
   "file_extension": ".py",
   "mimetype": "text/x-python",
   "name": "python",
   "nbconvert_exporter": "python",
   "pygments_lexer": "ipython3",
   "version": "3.7.6"
  }
 },
 "nbformat": 4,
 "nbformat_minor": 2
}
